{
 "cells": [
  {
   "cell_type": "markdown",
   "id": "69b5085e",
   "metadata": {},
   "source": [
    "# Hello World in Jupyter Notebook"
   ]
  },
  {
   "cell_type": "markdown",
   "id": "0ea53aa8",
   "metadata": {},
   "source": [
    "## de imports"
   ]
  },
  {
   "cell_type": "code",
   "execution_count": 2,
   "id": "e180c241",
   "metadata": {},
   "outputs": [],
   "source": [
    "import random\n",
    "import time"
   ]
  },
  {
   "cell_type": "code",
   "execution_count": 3,
   "id": "763e6f35",
   "metadata": {},
   "outputs": [
    {
     "name": "stdout",
     "output_type": "stream",
     "text": [
      "Hello Jupyter\n"
     ]
    }
   ],
   "source": [
    "print(\"Hello Jupyter\")"
   ]
  },
  {
   "cell_type": "markdown",
   "id": "530038af",
   "metadata": {},
   "source": [
    "### maken van een lijst met random getallen "
   ]
  },
  {
   "cell_type": "code",
   "execution_count": 4,
   "id": "b620af6f",
   "metadata": {},
   "outputs": [
    {
     "name": "stdout",
     "output_type": "stream",
     "text": [
      "[63, 69, 98, 20, 44, 42, 97, 31, 45, 53, 57, 74, 17, 66, 2, 38, 60, 12, 55, 47, 89, 92, 8, 91, 79, 29, 75, 5, 100, 37, 93, 19, 68, 15, 73, 29, 1, 38, 65, 64, 75, 58, 72, 45, 19, 80, 87, 55, 23, 31]\n"
     ]
    }
   ],
   "source": [
    "numbers = [random.randint(0,100) for j in range(50)]\n",
    "print(numbers)"
   ]
  },
  {
   "cell_type": "code",
   "execution_count": 5,
   "id": "4e6ffc9a",
   "metadata": {},
   "outputs": [],
   "source": [
    "?random.randint"
   ]
  },
  {
   "cell_type": "markdown",
   "id": "ae30dd3a",
   "metadata": {},
   "source": [
    "<b><u>HTML in Jupyter</u></b>\n",
    "<!-- <b> = bold = vet -->\n",
    "<a href=\"http://www.google.be\" target=\"_blank\">Google</a>"
   ]
  },
  {
   "cell_type": "markdown",
   "id": "a4f442c8",
   "metadata": {},
   "source": [
    "**Andere manier om iets in het vet te zetten**<br>\n",
    "***schuin***"
   ]
  },
  {
   "cell_type": "code",
   "execution_count": null,
   "id": "82205e49",
   "metadata": {},
   "outputs": [],
   "source": []
  }
 ],
 "metadata": {
  "kernelspec": {
   "display_name": "Python 3 (ipykernel)",
   "language": "python",
   "name": "python3"
  },
  "language_info": {
   "codemirror_mode": {
    "name": "ipython",
    "version": 3
   },
   "file_extension": ".py",
   "mimetype": "text/x-python",
   "name": "python",
   "nbconvert_exporter": "python",
   "pygments_lexer": "ipython3",
   "version": "3.10.6"
  }
 },
 "nbformat": 4,
 "nbformat_minor": 5
}
