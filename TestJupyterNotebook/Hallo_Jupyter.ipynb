{
 "cells": [
  {
   "cell_type": "markdown",
   "id": "69b5085e",
   "metadata": {},
   "source": [
    "# Hello World in Jupyter Notebook"
   ]
  },
  {
   "cell_type": "markdown",
   "id": "0ea53aa8",
   "metadata": {},
   "source": [
    "## De imports"
   ]
  },
  {
   "cell_type": "code",
   "execution_count": 1,
   "id": "e180c241",
   "metadata": {},
   "outputs": [],
   "source": [
    "import random\n",
    "import time"
   ]
  },
  {
   "cell_type": "code",
   "execution_count": 2,
   "id": "763e6f35",
   "metadata": {},
   "outputs": [
    {
     "name": "stdout",
     "output_type": "stream",
     "text": [
      "Hello Jupyter\n"
     ]
    }
   ],
   "source": [
    "print(\"Hello Jupyter\")"
   ]
  },
  {
   "cell_type": "markdown",
   "id": "530038af",
   "metadata": {},
   "source": [
    "### Maken van een lijst met random getallen "
   ]
  },
  {
   "cell_type": "code",
   "execution_count": 3,
   "id": "b620af6f",
   "metadata": {},
   "outputs": [
    {
     "name": "stdout",
     "output_type": "stream",
     "text": [
      "[100, 17, 85, 99, 35, 75, 53, 52, 79, 84, 56, 69, 72, 18, 93, 84, 9, 73, 67, 23, 54, 47, 81, 97, 97, 56, 7, 26, 46, 77, 81, 45, 66, 0, 96, 83, 62, 68, 9, 50, 59, 96, 41, 43, 41, 39, 68, 75, 60, 33]\n"
     ]
    }
   ],
   "source": [
    "numbers = [random.randint(0,100) for j in range(50)]\n",
    "print(numbers)"
   ]
  },
  {
   "cell_type": "code",
   "execution_count": 4,
   "id": "4e6ffc9a",
   "metadata": {},
   "outputs": [],
   "source": [
    "?random.randint"
   ]
  },
  {
   "cell_type": "markdown",
   "id": "abb7f415",
   "metadata": {},
   "source": [
    "## Markdown voorbeelden"
   ]
  },
  {
   "cell_type": "markdown",
   "id": "ae30dd3a",
   "metadata": {},
   "source": [
    "<b><u>HTML in Jupyter</u></b>\n",
    "<!-- <b> = bold = vet -->\n",
    "<a href=\"http://www.google.be\" target=\"_blank\">Google</a>"
   ]
  },
  {
   "cell_type": "markdown",
   "id": "a4f442c8",
   "metadata": {},
   "source": [
    "Andere manier om iets in het **vet** te zetten<br>\n",
    "of in het *schuin*<br>\n",
    "of in het ***vet en schuin***"
   ]
  }
 ],
 "metadata": {
  "kernelspec": {
   "display_name": "Python 3 (ipykernel)",
   "language": "python",
   "name": "python3"
  },
  "language_info": {
   "codemirror_mode": {
    "name": "ipython",
    "version": 3
   },
   "file_extension": ".py",
   "mimetype": "text/x-python",
   "name": "python",
   "nbconvert_exporter": "python",
   "pygments_lexer": "ipython3",
   "version": "3.10.6"
  }
 },
 "nbformat": 4,
 "nbformat_minor": 5
}
