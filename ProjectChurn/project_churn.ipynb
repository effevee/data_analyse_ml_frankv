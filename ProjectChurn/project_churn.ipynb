{
 "cells": [
  {
   "cell_type": "markdown",
   "id": "9766f195",
   "metadata": {},
   "source": [
    "# Churn model voor het bedrijf Telco"
   ]
  },
  {
   "cell_type": "code",
   "execution_count": 1,
   "id": "e3267fa9",
   "metadata": {},
   "outputs": [],
   "source": [
    "import pandas as pd\n",
    "# klasse om data te splitsen in een leer- en testset\n",
    "from sklearn.model_selection import train_test_split  \n",
    "# libs voor grafieken\n",
    "import seaborn as snb                                 \n",
    "import matplotlib.pyplot as plt\n",
    "# libs nodig om de dataPipeLine te maken\n",
    "from sklearn.preprocessing import MinMaxScaler, OneHotEncoder\n",
    "from sklearn.pipeline import Pipeline\n",
    "from sklearn.compose import ColumnTransformer"
   ]
  },
  {
   "cell_type": "markdown",
   "id": "470cf45c",
   "metadata": {},
   "source": [
    "## Data verkennen"
   ]
  },
  {
   "cell_type": "code",
   "execution_count": 2,
   "id": "28c8e1da",
   "metadata": {},
   "outputs": [
    {
     "data": {
      "text/html": [
       "<div>\n",
       "<style scoped>\n",
       "    .dataframe tbody tr th:only-of-type {\n",
       "        vertical-align: middle;\n",
       "    }\n",
       "\n",
       "    .dataframe tbody tr th {\n",
       "        vertical-align: top;\n",
       "    }\n",
       "\n",
       "    .dataframe thead th {\n",
       "        text-align: right;\n",
       "    }\n",
       "</style>\n",
       "<table border=\"1\" class=\"dataframe\">\n",
       "  <thead>\n",
       "    <tr style=\"text-align: right;\">\n",
       "      <th></th>\n",
       "      <th>customerID</th>\n",
       "      <th>gender</th>\n",
       "      <th>SeniorCitizen</th>\n",
       "      <th>Partner</th>\n",
       "      <th>Dependents</th>\n",
       "      <th>tenure</th>\n",
       "      <th>PhoneService</th>\n",
       "      <th>MultipleLines</th>\n",
       "      <th>InternetService</th>\n",
       "      <th>OnlineSecurity</th>\n",
       "      <th>...</th>\n",
       "      <th>DeviceProtection</th>\n",
       "      <th>TechSupport</th>\n",
       "      <th>StreamingTV</th>\n",
       "      <th>StreamingMovies</th>\n",
       "      <th>Contract</th>\n",
       "      <th>PaperlessBilling</th>\n",
       "      <th>PaymentMethod</th>\n",
       "      <th>MonthlyCharges</th>\n",
       "      <th>TotalCharges</th>\n",
       "      <th>Churn</th>\n",
       "    </tr>\n",
       "  </thead>\n",
       "  <tbody>\n",
       "    <tr>\n",
       "      <th>0</th>\n",
       "      <td>7590-VHVEG</td>\n",
       "      <td>Female</td>\n",
       "      <td>0</td>\n",
       "      <td>Yes</td>\n",
       "      <td>No</td>\n",
       "      <td>1</td>\n",
       "      <td>No</td>\n",
       "      <td>No phone service</td>\n",
       "      <td>DSL</td>\n",
       "      <td>No</td>\n",
       "      <td>...</td>\n",
       "      <td>No</td>\n",
       "      <td>No</td>\n",
       "      <td>No</td>\n",
       "      <td>No</td>\n",
       "      <td>Month-to-month</td>\n",
       "      <td>Yes</td>\n",
       "      <td>Electronic check</td>\n",
       "      <td>29.85</td>\n",
       "      <td>29.85</td>\n",
       "      <td>No</td>\n",
       "    </tr>\n",
       "    <tr>\n",
       "      <th>1</th>\n",
       "      <td>5575-GNVDE</td>\n",
       "      <td>Male</td>\n",
       "      <td>0</td>\n",
       "      <td>No</td>\n",
       "      <td>No</td>\n",
       "      <td>34</td>\n",
       "      <td>Yes</td>\n",
       "      <td>No</td>\n",
       "      <td>DSL</td>\n",
       "      <td>Yes</td>\n",
       "      <td>...</td>\n",
       "      <td>Yes</td>\n",
       "      <td>No</td>\n",
       "      <td>No</td>\n",
       "      <td>No</td>\n",
       "      <td>One year</td>\n",
       "      <td>No</td>\n",
       "      <td>Mailed check</td>\n",
       "      <td>56.95</td>\n",
       "      <td>1889.5</td>\n",
       "      <td>No</td>\n",
       "    </tr>\n",
       "    <tr>\n",
       "      <th>2</th>\n",
       "      <td>3668-QPYBK</td>\n",
       "      <td>Male</td>\n",
       "      <td>0</td>\n",
       "      <td>No</td>\n",
       "      <td>No</td>\n",
       "      <td>2</td>\n",
       "      <td>Yes</td>\n",
       "      <td>No</td>\n",
       "      <td>DSL</td>\n",
       "      <td>Yes</td>\n",
       "      <td>...</td>\n",
       "      <td>No</td>\n",
       "      <td>No</td>\n",
       "      <td>No</td>\n",
       "      <td>No</td>\n",
       "      <td>Month-to-month</td>\n",
       "      <td>Yes</td>\n",
       "      <td>Mailed check</td>\n",
       "      <td>53.85</td>\n",
       "      <td>108.15</td>\n",
       "      <td>Yes</td>\n",
       "    </tr>\n",
       "    <tr>\n",
       "      <th>3</th>\n",
       "      <td>7795-CFOCW</td>\n",
       "      <td>Male</td>\n",
       "      <td>0</td>\n",
       "      <td>No</td>\n",
       "      <td>No</td>\n",
       "      <td>45</td>\n",
       "      <td>No</td>\n",
       "      <td>No phone service</td>\n",
       "      <td>DSL</td>\n",
       "      <td>Yes</td>\n",
       "      <td>...</td>\n",
       "      <td>Yes</td>\n",
       "      <td>Yes</td>\n",
       "      <td>No</td>\n",
       "      <td>No</td>\n",
       "      <td>One year</td>\n",
       "      <td>No</td>\n",
       "      <td>Bank transfer (automatic)</td>\n",
       "      <td>42.30</td>\n",
       "      <td>1840.75</td>\n",
       "      <td>No</td>\n",
       "    </tr>\n",
       "    <tr>\n",
       "      <th>4</th>\n",
       "      <td>9237-HQITU</td>\n",
       "      <td>Female</td>\n",
       "      <td>0</td>\n",
       "      <td>No</td>\n",
       "      <td>No</td>\n",
       "      <td>2</td>\n",
       "      <td>Yes</td>\n",
       "      <td>No</td>\n",
       "      <td>Fiber optic</td>\n",
       "      <td>No</td>\n",
       "      <td>...</td>\n",
       "      <td>No</td>\n",
       "      <td>No</td>\n",
       "      <td>No</td>\n",
       "      <td>No</td>\n",
       "      <td>Month-to-month</td>\n",
       "      <td>Yes</td>\n",
       "      <td>Electronic check</td>\n",
       "      <td>70.70</td>\n",
       "      <td>151.65</td>\n",
       "      <td>Yes</td>\n",
       "    </tr>\n",
       "  </tbody>\n",
       "</table>\n",
       "<p>5 rows × 21 columns</p>\n",
       "</div>"
      ],
      "text/plain": [
       "   customerID  gender  SeniorCitizen Partner Dependents  tenure PhoneService  \\\n",
       "0  7590-VHVEG  Female              0     Yes         No       1           No   \n",
       "1  5575-GNVDE    Male              0      No         No      34          Yes   \n",
       "2  3668-QPYBK    Male              0      No         No       2          Yes   \n",
       "3  7795-CFOCW    Male              0      No         No      45           No   \n",
       "4  9237-HQITU  Female              0      No         No       2          Yes   \n",
       "\n",
       "      MultipleLines InternetService OnlineSecurity  ... DeviceProtection  \\\n",
       "0  No phone service             DSL             No  ...               No   \n",
       "1                No             DSL            Yes  ...              Yes   \n",
       "2                No             DSL            Yes  ...               No   \n",
       "3  No phone service             DSL            Yes  ...              Yes   \n",
       "4                No     Fiber optic             No  ...               No   \n",
       "\n",
       "  TechSupport StreamingTV StreamingMovies        Contract PaperlessBilling  \\\n",
       "0          No          No              No  Month-to-month              Yes   \n",
       "1          No          No              No        One year               No   \n",
       "2          No          No              No  Month-to-month              Yes   \n",
       "3         Yes          No              No        One year               No   \n",
       "4          No          No              No  Month-to-month              Yes   \n",
       "\n",
       "               PaymentMethod MonthlyCharges  TotalCharges Churn  \n",
       "0           Electronic check          29.85         29.85    No  \n",
       "1               Mailed check          56.95        1889.5    No  \n",
       "2               Mailed check          53.85        108.15   Yes  \n",
       "3  Bank transfer (automatic)          42.30       1840.75    No  \n",
       "4           Electronic check          70.70        151.65   Yes  \n",
       "\n",
       "[5 rows x 21 columns]"
      ]
     },
     "execution_count": 2,
     "metadata": {},
     "output_type": "execute_result"
    }
   ],
   "source": [
    "df = pd.read_csv(\"../data/Telco-Customer-Churn.csv\")\n",
    "df.head()"
   ]
  },
  {
   "cell_type": "code",
   "execution_count": 3,
   "id": "63e01a0b",
   "metadata": {},
   "outputs": [
    {
     "name": "stdout",
     "output_type": "stream",
     "text": [
      "<class 'pandas.core.frame.DataFrame'>\n",
      "RangeIndex: 7043 entries, 0 to 7042\n",
      "Data columns (total 21 columns):\n",
      " #   Column            Non-Null Count  Dtype  \n",
      "---  ------            --------------  -----  \n",
      " 0   customerID        7043 non-null   object \n",
      " 1   gender            7043 non-null   object \n",
      " 2   SeniorCitizen     7043 non-null   int64  \n",
      " 3   Partner           7043 non-null   object \n",
      " 4   Dependents        7043 non-null   object \n",
      " 5   tenure            7043 non-null   int64  \n",
      " 6   PhoneService      7043 non-null   object \n",
      " 7   MultipleLines     7043 non-null   object \n",
      " 8   InternetService   7043 non-null   object \n",
      " 9   OnlineSecurity    7043 non-null   object \n",
      " 10  OnlineBackup      7043 non-null   object \n",
      " 11  DeviceProtection  7043 non-null   object \n",
      " 12  TechSupport       7043 non-null   object \n",
      " 13  StreamingTV       7043 non-null   object \n",
      " 14  StreamingMovies   7043 non-null   object \n",
      " 15  Contract          7043 non-null   object \n",
      " 16  PaperlessBilling  7043 non-null   object \n",
      " 17  PaymentMethod     7043 non-null   object \n",
      " 18  MonthlyCharges    7043 non-null   float64\n",
      " 19  TotalCharges      7043 non-null   object \n",
      " 20  Churn             7043 non-null   object \n",
      "dtypes: float64(1), int64(2), object(18)\n",
      "memory usage: 1.1+ MB\n"
     ]
    }
   ],
   "source": [
    "df.info()"
   ]
  },
  {
   "cell_type": "markdown",
   "id": "62ac33d7",
   "metadata": {},
   "source": [
    " ### Verklaring kolommen"
   ]
  },
  {
   "cell_type": "code",
   "execution_count": 4,
   "id": "cfe4fcc6",
   "metadata": {},
   "outputs": [
    {
     "name": "stdout",
     "output_type": "stream",
     "text": [
      "7043\n"
     ]
    }
   ],
   "source": [
    "# customer 1 lijn of meerdere lijnen ?\n",
    "print(len(df.customerID.unique()))"
   ]
  },
  {
   "cell_type": "code",
   "execution_count": 5,
   "id": "19a644eb",
   "metadata": {},
   "outputs": [
    {
     "name": "stdout",
     "output_type": "stream",
     "text": [
      "['Female' 'Male']\n"
     ]
    }
   ],
   "source": [
    "# per customer 1 lijn\n",
    "# gender --> geslacht\n",
    "print(df.gender.unique())"
   ]
  },
  {
   "cell_type": "code",
   "execution_count": 6,
   "id": "b8b3c826",
   "metadata": {},
   "outputs": [
    {
     "name": "stdout",
     "output_type": "stream",
     "text": [
      "[0 1]\n"
     ]
    }
   ],
   "source": [
    "# SeniorCitizen\n",
    "print(df.SeniorCitizen.unique())"
   ]
  },
  {
   "cell_type": "code",
   "execution_count": 7,
   "id": "beca81a4",
   "metadata": {},
   "outputs": [
    {
     "name": "stdout",
     "output_type": "stream",
     "text": [
      "['Yes' 'No']\n"
     ]
    }
   ],
   "source": [
    "# Partner --> ja of nee\n",
    "print(df.Partner.unique())"
   ]
  },
  {
   "cell_type": "code",
   "execution_count": 8,
   "id": "74ce9660",
   "metadata": {},
   "outputs": [
    {
     "name": "stdout",
     "output_type": "stream",
     "text": [
      "['No' 'Yes']\n"
     ]
    }
   ],
   "source": [
    "# Dependents --> ten laste \n",
    "print(df.Dependents.unique())"
   ]
  },
  {
   "cell_type": "code",
   "execution_count": 9,
   "id": "53e7ff75",
   "metadata": {},
   "outputs": [
    {
     "name": "stdout",
     "output_type": "stream",
     "text": [
      "[ 1 34  2 45  8 22 10 28 62 13 16 58 49 25 69 52 71 21 12 30 47 72 17 27\n",
      "  5 46 11 70 63 43 15 60 18 66  9  3 31 50 64 56  7 42 35 48 29 65 38 68\n",
      " 32 55 37 36 41  6  4 33 67 23 57 61 14 20 53 40 59 24 44 19 54 51 26  0\n",
      " 39]\n"
     ]
    }
   ],
   "source": [
    "# Tenure --> aantal maanden klant\n",
    "print(df.tenure.unique())"
   ]
  },
  {
   "cell_type": "code",
   "execution_count": 10,
   "id": "e5888d6f",
   "metadata": {},
   "outputs": [
    {
     "name": "stdout",
     "output_type": "stream",
     "text": [
      "['No' 'Yes']\n"
     ]
    }
   ],
   "source": [
    "# PhoneService --> telefoon abonnenment\n",
    "print(df.PhoneService.unique())"
   ]
  },
  {
   "cell_type": "code",
   "execution_count": 11,
   "id": "ec7fe7ff",
   "metadata": {},
   "outputs": [
    {
     "name": "stdout",
     "output_type": "stream",
     "text": [
      "['No phone service' 'No' 'Yes']\n"
     ]
    }
   ],
   "source": [
    "# MultipleLines --> meerdere lijnen?\n",
    "print(df.MultipleLines.unique())"
   ]
  },
  {
   "cell_type": "code",
   "execution_count": 12,
   "id": "0ea47b8f",
   "metadata": {},
   "outputs": [
    {
     "name": "stdout",
     "output_type": "stream",
     "text": [
      "['DSL' 'Fiber optic' 'No']\n"
     ]
    }
   ],
   "source": [
    "# InternetService --> soort internet verbinding\n",
    "print(df.InternetService.unique())"
   ]
  },
  {
   "cell_type": "code",
   "execution_count": 13,
   "id": "a4dd8d30",
   "metadata": {},
   "outputs": [
    {
     "name": "stdout",
     "output_type": "stream",
     "text": [
      "['No' 'Yes' 'No internet service']\n"
     ]
    }
   ],
   "source": [
    "# OnlineSecurity --> online beveiliging\n",
    "print(df.OnlineSecurity.unique())"
   ]
  },
  {
   "cell_type": "code",
   "execution_count": 14,
   "id": "c55292a5",
   "metadata": {},
   "outputs": [
    {
     "name": "stdout",
     "output_type": "stream",
     "text": [
      "['Yes' 'No' 'No internet service']\n"
     ]
    }
   ],
   "source": [
    "# OnlineBackup --> online backup\n",
    "print(df.OnlineBackup.unique())"
   ]
  },
  {
   "cell_type": "code",
   "execution_count": 15,
   "id": "7586ddf4",
   "metadata": {},
   "outputs": [
    {
     "name": "stdout",
     "output_type": "stream",
     "text": [
      "['No' 'Yes' 'No internet service']\n"
     ]
    }
   ],
   "source": [
    "# DeviceProtection --> systeem beveiliging\n",
    "print(df.DeviceProtection.unique())"
   ]
  },
  {
   "cell_type": "code",
   "execution_count": 16,
   "id": "7302a2b7",
   "metadata": {},
   "outputs": [
    {
     "name": "stdout",
     "output_type": "stream",
     "text": [
      "['No' 'Yes' 'No internet service']\n"
     ]
    }
   ],
   "source": [
    "# TechSupport --> technische support\n",
    "print(df.TechSupport.unique())"
   ]
  },
  {
   "cell_type": "code",
   "execution_count": 17,
   "id": "9c1c086c",
   "metadata": {},
   "outputs": [
    {
     "name": "stdout",
     "output_type": "stream",
     "text": [
      "['No' 'Yes' 'No internet service']\n"
     ]
    }
   ],
   "source": [
    "# StreamingTV --> TV streamen\n",
    "print(df.StreamingTV.unique())"
   ]
  },
  {
   "cell_type": "code",
   "execution_count": 18,
   "id": "ca7607c0",
   "metadata": {},
   "outputs": [
    {
     "name": "stdout",
     "output_type": "stream",
     "text": [
      "['No' 'Yes' 'No internet service']\n"
     ]
    }
   ],
   "source": [
    "# StreamingMovies --> films streamen\n",
    "print(df.StreamingMovies.unique())"
   ]
  },
  {
   "cell_type": "code",
   "execution_count": 19,
   "id": "e7c6f287",
   "metadata": {},
   "outputs": [
    {
     "name": "stdout",
     "output_type": "stream",
     "text": [
      "['Month-to-month' 'One year' 'Two year']\n"
     ]
    }
   ],
   "source": [
    "# Contract --> soort contract\n",
    "print(df.Contract.unique())"
   ]
  },
  {
   "cell_type": "code",
   "execution_count": 21,
   "id": "660ee802",
   "metadata": {},
   "outputs": [
    {
     "ename": "SyntaxError",
     "evalue": "unexpected EOF while parsing (3249014463.py, line 3)",
     "output_type": "error",
     "traceback": [
      "\u001b[0;36m  Cell \u001b[0;32mIn[21], line 3\u001b[0;36m\u001b[0m\n\u001b[0;31m    print(df.PaperlessBilling.unique()\u001b[0m\n\u001b[0m                                      ^\u001b[0m\n\u001b[0;31mSyntaxError\u001b[0m\u001b[0;31m:\u001b[0m unexpected EOF while parsing\n"
     ]
    }
   ],
   "source": [
    "# PaperlessBilling --> electronische factuur ?\n",
    "print(len(df.PaperlessBilling))\n",
    "print(df.PaperlessBilling.unique()"
   ]
  },
  {
   "cell_type": "code",
   "execution_count": 22,
   "id": "37497a9f",
   "metadata": {},
   "outputs": [
    {
     "name": "stdout",
     "output_type": "stream",
     "text": [
      "['Electronic check' 'Mailed check' 'Bank transfer (automatic)'\n",
      " 'Credit card (automatic)']\n"
     ]
    }
   ],
   "source": [
    "# PaymentMethod --> betaalmethode\n",
    "print(df.PaymentMethod.unique())"
   ]
  },
  {
   "cell_type": "code",
   "execution_count": 23,
   "id": "022819d0",
   "metadata": {},
   "outputs": [
    {
     "name": "stdout",
     "output_type": "stream",
     "text": [
      "[29.85 56.95 53.85 ... 63.1  44.2  78.7 ]\n"
     ]
    }
   ],
   "source": [
    "# MonthlyCharges\n",
    "print(df.MonthlyCharges.unique())"
   ]
  },
  {
   "cell_type": "code",
   "execution_count": 24,
   "id": "ab8680b2",
   "metadata": {},
   "outputs": [
    {
     "name": "stdout",
     "output_type": "stream",
     "text": [
      "['29.85' '1889.5' '108.15' ... '346.45' '306.6' '6844.5']\n"
     ]
    }
   ],
   "source": [
    "# TotalCharges !!!!strings!!!!\n",
    "print(df.TotalCharges.unique())"
   ]
  },
  {
   "cell_type": "code",
   "execution_count": 25,
   "id": "b134c89f",
   "metadata": {},
   "outputs": [
    {
     "name": "stdout",
     "output_type": "stream",
     "text": [
      "['No' 'Yes']\n"
     ]
    }
   ],
   "source": [
    "# Churn --> klant weggelopen ?\n",
    "print(df.Churn.unique())"
   ]
  },
  {
   "cell_type": "code",
   "execution_count": 26,
   "id": "10051831",
   "metadata": {},
   "outputs": [
    {
     "name": "stdout",
     "output_type": "stream",
     "text": [
      "      customerID  gender  SeniorCitizen Partner Dependents  tenure  \\\n",
      "488   4472-LVYGI  Female              0     Yes        Yes       0   \n",
      "753   3115-CZMZD    Male              0      No        Yes       0   \n",
      "936   5709-LVOEQ  Female              0     Yes        Yes       0   \n",
      "1082  4367-NUYAO    Male              0     Yes        Yes       0   \n",
      "1340  1371-DWPAZ  Female              0     Yes        Yes       0   \n",
      "3331  7644-OMVMY    Male              0     Yes        Yes       0   \n",
      "3826  3213-VVOLG    Male              0     Yes        Yes       0   \n",
      "4380  2520-SGTTA  Female              0     Yes        Yes       0   \n",
      "5218  2923-ARZLG    Male              0     Yes        Yes       0   \n",
      "6670  4075-WKNIU  Female              0     Yes        Yes       0   \n",
      "6754  2775-SEFEE    Male              0      No        Yes       0   \n",
      "\n",
      "     PhoneService     MultipleLines InternetService       OnlineSecurity  ...  \\\n",
      "488            No  No phone service             DSL                  Yes  ...   \n",
      "753           Yes                No              No  No internet service  ...   \n",
      "936           Yes                No             DSL                  Yes  ...   \n",
      "1082          Yes               Yes              No  No internet service  ...   \n",
      "1340           No  No phone service             DSL                  Yes  ...   \n",
      "3331          Yes                No              No  No internet service  ...   \n",
      "3826          Yes               Yes              No  No internet service  ...   \n",
      "4380          Yes                No              No  No internet service  ...   \n",
      "5218          Yes                No              No  No internet service  ...   \n",
      "6670          Yes               Yes             DSL                   No  ...   \n",
      "6754          Yes               Yes             DSL                  Yes  ...   \n",
      "\n",
      "         DeviceProtection          TechSupport          StreamingTV  \\\n",
      "488                   Yes                  Yes                  Yes   \n",
      "753   No internet service  No internet service  No internet service   \n",
      "936                   Yes                   No                  Yes   \n",
      "1082  No internet service  No internet service  No internet service   \n",
      "1340                  Yes                  Yes                  Yes   \n",
      "3331  No internet service  No internet service  No internet service   \n",
      "3826  No internet service  No internet service  No internet service   \n",
      "4380  No internet service  No internet service  No internet service   \n",
      "5218  No internet service  No internet service  No internet service   \n",
      "6670                  Yes                  Yes                  Yes   \n",
      "6754                   No                  Yes                   No   \n",
      "\n",
      "          StreamingMovies  Contract PaperlessBilling  \\\n",
      "488                    No  Two year              Yes   \n",
      "753   No internet service  Two year               No   \n",
      "936                   Yes  Two year               No   \n",
      "1082  No internet service  Two year               No   \n",
      "1340                   No  Two year               No   \n",
      "3331  No internet service  Two year               No   \n",
      "3826  No internet service  Two year               No   \n",
      "4380  No internet service  Two year               No   \n",
      "5218  No internet service  One year              Yes   \n",
      "6670                   No  Two year               No   \n",
      "6754                   No  Two year              Yes   \n",
      "\n",
      "                  PaymentMethod MonthlyCharges  TotalCharges Churn  \n",
      "488   Bank transfer (automatic)          52.55                  No  \n",
      "753                Mailed check          20.25                  No  \n",
      "936                Mailed check          80.85                  No  \n",
      "1082               Mailed check          25.75                  No  \n",
      "1340    Credit card (automatic)          56.05                  No  \n",
      "3331               Mailed check          19.85                  No  \n",
      "3826               Mailed check          25.35                  No  \n",
      "4380               Mailed check          20.00                  No  \n",
      "5218               Mailed check          19.70                  No  \n",
      "6670               Mailed check          73.35                  No  \n",
      "6754  Bank transfer (automatic)          61.90                  No  \n",
      "\n",
      "[11 rows x 21 columns]\n"
     ]
    }
   ],
   "source": [
    "# Kolom TotalCharges zijn strings, maar zouden getallen moeten zijn\n",
    "# sommigen bevatten een spatie\n",
    "print(df[df.TotalCharges == ' '])"
   ]
  },
  {
   "cell_type": "code",
   "execution_count": 27,
   "id": "64813b66",
   "metadata": {},
   "outputs": [],
   "source": [
    "# omzetten lege strings naar '0'\n",
    "df.TotalCharges = df.TotalCharges.str.replace(' ','0')\n",
    "# nu omzetten naar float\n",
    "df.TotalCharges = df.TotalCharges.astype('float')"
   ]
  },
  {
   "cell_type": "code",
   "execution_count": 28,
   "id": "519e4c23",
   "metadata": {},
   "outputs": [
    {
     "name": "stdout",
     "output_type": "stream",
     "text": [
      "<class 'pandas.core.frame.DataFrame'>\n",
      "RangeIndex: 7043 entries, 0 to 7042\n",
      "Data columns (total 21 columns):\n",
      " #   Column            Non-Null Count  Dtype  \n",
      "---  ------            --------------  -----  \n",
      " 0   customerID        7043 non-null   object \n",
      " 1   gender            7043 non-null   object \n",
      " 2   SeniorCitizen     7043 non-null   int64  \n",
      " 3   Partner           7043 non-null   object \n",
      " 4   Dependents        7043 non-null   object \n",
      " 5   tenure            7043 non-null   int64  \n",
      " 6   PhoneService      7043 non-null   object \n",
      " 7   MultipleLines     7043 non-null   object \n",
      " 8   InternetService   7043 non-null   object \n",
      " 9   OnlineSecurity    7043 non-null   object \n",
      " 10  OnlineBackup      7043 non-null   object \n",
      " 11  DeviceProtection  7043 non-null   object \n",
      " 12  TechSupport       7043 non-null   object \n",
      " 13  StreamingTV       7043 non-null   object \n",
      " 14  StreamingMovies   7043 non-null   object \n",
      " 15  Contract          7043 non-null   object \n",
      " 16  PaperlessBilling  7043 non-null   object \n",
      " 17  PaymentMethod     7043 non-null   object \n",
      " 18  MonthlyCharges    7043 non-null   float64\n",
      " 19  TotalCharges      7043 non-null   float64\n",
      " 20  Churn             7043 non-null   object \n",
      "dtypes: float64(2), int64(2), object(17)\n",
      "memory usage: 1.1+ MB\n"
     ]
    }
   ],
   "source": [
    "df.info()"
   ]
  },
  {
   "cell_type": "markdown",
   "id": "c6d723b5",
   "metadata": {},
   "source": [
    "## Maken van train set en test set"
   ]
  },
  {
   "cell_type": "code",
   "execution_count": 29,
   "id": "39964f80",
   "metadata": {},
   "outputs": [
    {
     "name": "stdout",
     "output_type": "stream",
     "text": [
      "aantal entries in train_set: 4930\n",
      "aantal entries in test_set:  2113\n",
      "stukje inhoud train_set:\n"
     ]
    },
    {
     "data": {
      "text/html": [
       "<div>\n",
       "<style scoped>\n",
       "    .dataframe tbody tr th:only-of-type {\n",
       "        vertical-align: middle;\n",
       "    }\n",
       "\n",
       "    .dataframe tbody tr th {\n",
       "        vertical-align: top;\n",
       "    }\n",
       "\n",
       "    .dataframe thead th {\n",
       "        text-align: right;\n",
       "    }\n",
       "</style>\n",
       "<table border=\"1\" class=\"dataframe\">\n",
       "  <thead>\n",
       "    <tr style=\"text-align: right;\">\n",
       "      <th></th>\n",
       "      <th>customerID</th>\n",
       "      <th>gender</th>\n",
       "      <th>SeniorCitizen</th>\n",
       "      <th>Partner</th>\n",
       "      <th>Dependents</th>\n",
       "      <th>tenure</th>\n",
       "      <th>PhoneService</th>\n",
       "      <th>MultipleLines</th>\n",
       "      <th>InternetService</th>\n",
       "      <th>OnlineSecurity</th>\n",
       "      <th>...</th>\n",
       "      <th>DeviceProtection</th>\n",
       "      <th>TechSupport</th>\n",
       "      <th>StreamingTV</th>\n",
       "      <th>StreamingMovies</th>\n",
       "      <th>Contract</th>\n",
       "      <th>PaperlessBilling</th>\n",
       "      <th>PaymentMethod</th>\n",
       "      <th>MonthlyCharges</th>\n",
       "      <th>TotalCharges</th>\n",
       "      <th>Churn</th>\n",
       "    </tr>\n",
       "  </thead>\n",
       "  <tbody>\n",
       "    <tr>\n",
       "      <th>1695</th>\n",
       "      <td>4906-ZHGPK</td>\n",
       "      <td>Male</td>\n",
       "      <td>0</td>\n",
       "      <td>Yes</td>\n",
       "      <td>Yes</td>\n",
       "      <td>54</td>\n",
       "      <td>Yes</td>\n",
       "      <td>Yes</td>\n",
       "      <td>DSL</td>\n",
       "      <td>No</td>\n",
       "      <td>...</td>\n",
       "      <td>No</td>\n",
       "      <td>Yes</td>\n",
       "      <td>Yes</td>\n",
       "      <td>No</td>\n",
       "      <td>One year</td>\n",
       "      <td>Yes</td>\n",
       "      <td>Electronic check</td>\n",
       "      <td>70.70</td>\n",
       "      <td>3770.00</td>\n",
       "      <td>No</td>\n",
       "    </tr>\n",
       "    <tr>\n",
       "      <th>1095</th>\n",
       "      <td>7439-DKZTW</td>\n",
       "      <td>Male</td>\n",
       "      <td>0</td>\n",
       "      <td>No</td>\n",
       "      <td>No</td>\n",
       "      <td>1</td>\n",
       "      <td>Yes</td>\n",
       "      <td>No</td>\n",
       "      <td>Fiber optic</td>\n",
       "      <td>No</td>\n",
       "      <td>...</td>\n",
       "      <td>No</td>\n",
       "      <td>No</td>\n",
       "      <td>Yes</td>\n",
       "      <td>No</td>\n",
       "      <td>Month-to-month</td>\n",
       "      <td>Yes</td>\n",
       "      <td>Electronic check</td>\n",
       "      <td>80.55</td>\n",
       "      <td>80.55</td>\n",
       "      <td>No</td>\n",
       "    </tr>\n",
       "    <tr>\n",
       "      <th>3889</th>\n",
       "      <td>2592-HODOV</td>\n",
       "      <td>Male</td>\n",
       "      <td>0</td>\n",
       "      <td>No</td>\n",
       "      <td>No</td>\n",
       "      <td>13</td>\n",
       "      <td>Yes</td>\n",
       "      <td>No</td>\n",
       "      <td>No</td>\n",
       "      <td>No internet service</td>\n",
       "      <td>...</td>\n",
       "      <td>No internet service</td>\n",
       "      <td>No internet service</td>\n",
       "      <td>No internet service</td>\n",
       "      <td>No internet service</td>\n",
       "      <td>One year</td>\n",
       "      <td>No</td>\n",
       "      <td>Credit card (automatic)</td>\n",
       "      <td>19.30</td>\n",
       "      <td>259.65</td>\n",
       "      <td>No</td>\n",
       "    </tr>\n",
       "    <tr>\n",
       "      <th>3667</th>\n",
       "      <td>7826-VVKWT</td>\n",
       "      <td>Female</td>\n",
       "      <td>1</td>\n",
       "      <td>Yes</td>\n",
       "      <td>Yes</td>\n",
       "      <td>24</td>\n",
       "      <td>Yes</td>\n",
       "      <td>No</td>\n",
       "      <td>Fiber optic</td>\n",
       "      <td>No</td>\n",
       "      <td>...</td>\n",
       "      <td>Yes</td>\n",
       "      <td>No</td>\n",
       "      <td>Yes</td>\n",
       "      <td>Yes</td>\n",
       "      <td>Two year</td>\n",
       "      <td>Yes</td>\n",
       "      <td>Electronic check</td>\n",
       "      <td>96.55</td>\n",
       "      <td>2263.45</td>\n",
       "      <td>No</td>\n",
       "    </tr>\n",
       "    <tr>\n",
       "      <th>2902</th>\n",
       "      <td>1658-TJVOA</td>\n",
       "      <td>Female</td>\n",
       "      <td>1</td>\n",
       "      <td>No</td>\n",
       "      <td>No</td>\n",
       "      <td>6</td>\n",
       "      <td>Yes</td>\n",
       "      <td>No</td>\n",
       "      <td>Fiber optic</td>\n",
       "      <td>Yes</td>\n",
       "      <td>...</td>\n",
       "      <td>No</td>\n",
       "      <td>No</td>\n",
       "      <td>No</td>\n",
       "      <td>No</td>\n",
       "      <td>Month-to-month</td>\n",
       "      <td>Yes</td>\n",
       "      <td>Electronic check</td>\n",
       "      <td>74.10</td>\n",
       "      <td>450.90</td>\n",
       "      <td>No</td>\n",
       "    </tr>\n",
       "  </tbody>\n",
       "</table>\n",
       "<p>5 rows × 21 columns</p>\n",
       "</div>"
      ],
      "text/plain": [
       "      customerID  gender  SeniorCitizen Partner Dependents  tenure  \\\n",
       "1695  4906-ZHGPK    Male              0     Yes        Yes      54   \n",
       "1095  7439-DKZTW    Male              0      No         No       1   \n",
       "3889  2592-HODOV    Male              0      No         No      13   \n",
       "3667  7826-VVKWT  Female              1     Yes        Yes      24   \n",
       "2902  1658-TJVOA  Female              1      No         No       6   \n",
       "\n",
       "     PhoneService MultipleLines InternetService       OnlineSecurity  ...  \\\n",
       "1695          Yes           Yes             DSL                   No  ...   \n",
       "1095          Yes            No     Fiber optic                   No  ...   \n",
       "3889          Yes            No              No  No internet service  ...   \n",
       "3667          Yes            No     Fiber optic                   No  ...   \n",
       "2902          Yes            No     Fiber optic                  Yes  ...   \n",
       "\n",
       "         DeviceProtection          TechSupport          StreamingTV  \\\n",
       "1695                   No                  Yes                  Yes   \n",
       "1095                   No                   No                  Yes   \n",
       "3889  No internet service  No internet service  No internet service   \n",
       "3667                  Yes                   No                  Yes   \n",
       "2902                   No                   No                   No   \n",
       "\n",
       "          StreamingMovies        Contract PaperlessBilling  \\\n",
       "1695                   No        One year              Yes   \n",
       "1095                   No  Month-to-month              Yes   \n",
       "3889  No internet service        One year               No   \n",
       "3667                  Yes        Two year              Yes   \n",
       "2902                   No  Month-to-month              Yes   \n",
       "\n",
       "                PaymentMethod MonthlyCharges  TotalCharges  Churn  \n",
       "1695         Electronic check          70.70       3770.00     No  \n",
       "1095         Electronic check          80.55         80.55     No  \n",
       "3889  Credit card (automatic)          19.30        259.65     No  \n",
       "3667         Electronic check          96.55       2263.45     No  \n",
       "2902         Electronic check          74.10        450.90     No  \n",
       "\n",
       "[5 rows x 21 columns]"
      ]
     },
     "execution_count": 29,
     "metadata": {},
     "output_type": "execute_result"
    }
   ],
   "source": [
    "train_set,test_set = train_test_split(df,test_size=0.3,random_state=42)\n",
    "# random_state is randomseed voor de random functie\n",
    "print('aantal entries in train_set:', len(train_set))\n",
    "print('aantal entries in test_set: ', len(test_set))\n",
    "print('stukje inhoud train_set:')\n",
    "train_set.head()"
   ]
  },
  {
   "cell_type": "markdown",
   "id": "5bd9b372",
   "metadata": {},
   "source": [
    "## Patronen in churn detecteren aan de hand van visuele analyse"
   ]
  },
  {
   "cell_type": "markdown",
   "id": "27631e2f",
   "metadata": {},
   "source": [
    "### Procentueel aantal churners"
   ]
  },
  {
   "cell_type": "code",
   "execution_count": 30,
   "id": "9c20fd3c",
   "metadata": {},
   "outputs": [
    {
     "name": "stdout",
     "output_type": "stream",
     "text": [
      "No     3635\n",
      "Yes    1295\n",
      "Name: Churn, dtype: int64\n"
     ]
    }
   ],
   "source": [
    "yes_no_churn = train_set.Churn.value_counts()\n",
    "print(yes_no_churn)"
   ]
  },
  {
   "cell_type": "code",
   "execution_count": 31,
   "id": "6c247eb3",
   "metadata": {},
   "outputs": [
    {
     "name": "stdout",
     "output_type": "stream",
     "text": [
      "labels: ['No', 'Yes'] values: [3635, 1295]\n"
     ]
    }
   ],
   "source": [
    "# ophalen van No, Yes uit serie (=index van serie)\n",
    "labels = list(yes_no_churn.index)\n",
    "# ophalen van de waarden horende bij Yes en No\n",
    "values = list(yes_no_churn.values)\n",
    "print(\"labels:\",labels,\"values:\",values)"
   ]
  },
  {
   "cell_type": "code",
   "execution_count": 32,
   "id": "4db6b79f",
   "metadata": {},
   "outputs": [
    {
     "name": "stdout",
     "output_type": "stream",
     "text": [
      "[73.73225152129818, 26.267748478701826]\n"
     ]
    }
   ],
   "source": [
    "values_p = [values[0]*100/sum(values),values[1]*100/sum(values)]\n",
    "print(values_p)"
   ]
  },
  {
   "cell_type": "code",
   "execution_count": 33,
   "id": "0dbe1be6",
   "metadata": {},
   "outputs": [
    {
     "data": {
      "text/plain": [
       "([<matplotlib.patches.Wedge at 0x7f6dce569b20>,\n",
       "  <matplotlib.patches.Wedge at 0x7f6dce569a60>],\n",
       " [Text(-0.7462304484696153, 0.8081708468986226, 'No'),\n",
       "  Text(0.7462305998024334, -0.8081707071643345, 'Yes')],\n",
       " [Text(-0.4070347900743356, 0.4408204619447032, '73.73%'),\n",
       "  Text(0.40703487261950916, -0.44082038572600063, '26.27%')])"
      ]
     },
     "execution_count": 33,
     "metadata": {},
     "output_type": "execute_result"
    },
    {
     "data": {
      "image/png": "[encoded data removed]",
      "text/plain": [
       "<Figure size 640x480 with 1 Axes>"
      ]
     },
     "metadata": {},
     "output_type": "display_data"
    }
   ],
   "source": [
    "# kiezen van een kleurenpalet waaruit eerste 5 elementen genomen worden\n",
    "colors = snb.color_palette('pastel')[0:5]\n",
    "plt.pie(values_p,labels=labels,colors=colors,autopct='%.2f%%')"
   ]
  },
  {
   "cell_type": "markdown",
   "id": "12b96cb3",
   "metadata": {},
   "source": [
    "### Invloed van geslacht op churn"
   ]
  },
  {
   "cell_type": "code",
   "execution_count": 34,
   "id": "73491df3",
   "metadata": {},
   "outputs": [
    {
     "data": {
      "text/plain": [
       "<Axes: xlabel='Churn', ylabel='count'>"
      ]
     },
     "execution_count": 34,
     "metadata": {},
     "output_type": "execute_result"
    },
    {
     "data": {
      "image/png": "[encoded data removed]",
      "text/plain": [
       "<Figure size 1000x500 with 1 Axes>"
      ]
     },
     "metadata": {},
     "output_type": "display_data"
    }
   ],
   "source": [
    "snb.set(rc={'figure.figsize':(10,5)})\n",
    "snb.countplot(x=train_set.Churn,data=train_set,hue=train_set.gender)"
   ]
  },
  {
   "cell_type": "markdown",
   "id": "2312fab3",
   "metadata": {},
   "source": [
    "### Invloed van gepensioneerd zijn op churn"
   ]
  },
  {
   "cell_type": "code",
   "execution_count": 35,
   "id": "85248536",
   "metadata": {},
   "outputs": [
    {
     "data": {
      "text/plain": [
       "<Axes: xlabel='Churn', ylabel='count'>"
      ]
     },
     "execution_count": 35,
     "metadata": {},
     "output_type": "execute_result"
    },
    {
     "data": {
      "image/png": "[encoded data removed]",
      "text/plain": [
       "<Figure size 1000x500 with 1 Axes>"
      ]
     },
     "metadata": {},
     "output_type": "display_data"
    }
   ],
   "source": [
    "snb.countplot(x=train_set.Churn,data=train_set,hue=train_set.SeniorCitizen)"
   ]
  },
  {
   "cell_type": "markdown",
   "id": "533e80c7",
   "metadata": {},
   "source": [
    "### Invloed van al dan niet een partner op churn "
   ]
  },
  {
   "cell_type": "code",
   "execution_count": 36,
   "id": "e7150c9d",
   "metadata": {},
   "outputs": [
    {
     "data": {
      "text/plain": [
       "<Axes: xlabel='Churn', ylabel='count'>"
      ]
     },
     "execution_count": 36,
     "metadata": {},
     "output_type": "execute_result"
    },
    {
     "data": {
      "image/png": "[encoded data removed]",
      "text/plain": [
       "<Figure size 1000x500 with 1 Axes>"
      ]
     },
     "metadata": {},
     "output_type": "display_data"
    }
   ],
   "source": [
    "snb.countplot(x=train_set.Churn,data=train_set,hue=train_set.Partner)"
   ]
  },
  {
   "cell_type": "markdown",
   "id": "d169120e",
   "metadata": {},
   "source": [
    "# Invloed van aantal maanden klant op churn "
   ]
  },
  {
   "cell_type": "code",
   "execution_count": 37,
   "id": "12bebeba",
   "metadata": {},
   "outputs": [
    {
     "data": {
      "text/plain": [
       "<Axes: xlabel='tenure', ylabel='count'>"
      ]
     },
     "execution_count": 37,
     "metadata": {},
     "output_type": "execute_result"
    },
    {
     "data": {
      "image/png": "[encoded data removed]",
      "text/plain": [
       "<Figure size 2000x1200 with 1 Axes>"
      ]
     },
     "metadata": {},
     "output_type": "display_data"
    }
   ],
   "source": [
    "snb.set(rc={'figure.figsize':(20,12)})\n",
    "snb.countplot(x=train_set.tenure,data=train_set,hue=train_set.Churn)"
   ]
  },
  {
   "cell_type": "markdown",
   "id": "5271150b",
   "metadata": {},
   "source": [
    "### Invloed maandelijks te betalen bedrag op churn"
   ]
  },
  {
   "cell_type": "code",
   "execution_count": 38,
   "id": "1a3f63af",
   "metadata": {},
   "outputs": [
    {
     "data": {
      "image/png": "[encoded data removed]",
      "text/plain": [
       "<Figure size 2000x1200 with 1 Axes>"
      ]
     },
     "metadata": {},
     "output_type": "display_data"
    }
   ],
   "source": [
    "#snb.countplot(x=train_set.MonthlyCharges,data=train_set,hue=train_set.Churn)\n",
    "fig = snb.histplot(x=train_set.MonthlyCharges,data=train_set,hue=train_set.Churn)\n",
    "# naam y-as veranderen\n",
    "fig.set_ylabel('Aantal')\n",
    "# naam titel veranderen\n",
    "fig.set_title('Invloed van maandelijks bedrag op churn')\n",
    "# pointer naar grafiek ophalen\n",
    "fig_tosave = fig.get_figure()\n",
    "# grafiek opslaan\n",
    "fig_tosave.savefig('invloed_maandbedrag_op_churn.png')"
   ]
  },
  {
   "cell_type": "markdown",
   "id": "60199ad0",
   "metadata": {},
   "source": [
    "### Invloed soort internet connectie op churn "
   ]
  },
  {
   "cell_type": "code",
   "execution_count": 39,
   "id": "b9ea0d76",
   "metadata": {},
   "outputs": [
    {
     "data": {
      "text/plain": [
       "<Axes: xlabel='Churn', ylabel='count'>"
      ]
     },
     "execution_count": 39,
     "metadata": {},
     "output_type": "execute_result"
    },
    {
     "data": {
      "image/png": "[encoded data removed]",
      "text/plain": [
       "<Figure size 1000x500 with 1 Axes>"
      ]
     },
     "metadata": {},
     "output_type": "display_data"
    }
   ],
   "source": [
    "snb.set(rc={'figure.figsize':(10,5)})\n",
    "snb.countplot(x=train_set.Churn,data=train_set,hue=train_set.InternetService)"
   ]
  },
  {
   "cell_type": "markdown",
   "id": "d017110c",
   "metadata": {},
   "source": [
    "### Invloed van tech support op churn"
   ]
  },
  {
   "cell_type": "code",
   "execution_count": 40,
   "id": "4963b47f",
   "metadata": {},
   "outputs": [
    {
     "data": {
      "text/plain": [
       "<Axes: xlabel='Churn', ylabel='count'>"
      ]
     },
     "execution_count": 40,
     "metadata": {},
     "output_type": "execute_result"
    },
    {
     "data": {
      "image/png": "[encoded data removed]",
      "text/plain": [
       "<Figure size 1000x500 with 1 Axes>"
      ]
     },
     "metadata": {},
     "output_type": "display_data"
    }
   ],
   "source": [
    "snb.countplot(x=train_set.Churn,data=train_set,hue=train_set.TechSupport)"
   ]
  },
  {
   "cell_type": "markdown",
   "id": "dbfcef58",
   "metadata": {},
   "source": [
    "### Invloed van personen ten laste op churn "
   ]
  },
  {
   "cell_type": "code",
   "execution_count": 41,
   "id": "981d076a",
   "metadata": {},
   "outputs": [
    {
     "data": {
      "text/plain": [
       "<Axes: xlabel='Churn', ylabel='count'>"
      ]
     },
     "execution_count": 41,
     "metadata": {},
     "output_type": "execute_result"
    },
    {
     "data": {
      "image/png": "[encoded data removed]",
      "text/plain": [
       "<Figure size 1000x500 with 1 Axes>"
      ]
     },
     "metadata": {},
     "output_type": "display_data"
    }
   ],
   "source": [
    "snb.countplot(x=train_set.Churn,data=train_set,hue=train_set.Dependents)"
   ]
  },
  {
   "cell_type": "markdown",
   "id": "30af7e3a",
   "metadata": {},
   "source": [
    "### Invloed van telefoon service op churn"
   ]
  },
  {
   "cell_type": "code",
   "execution_count": 42,
   "id": "8715d0b1",
   "metadata": {},
   "outputs": [
    {
     "data": {
      "text/plain": [
       "<Axes: xlabel='Churn', ylabel='count'>"
      ]
     },
     "execution_count": 42,
     "metadata": {},
     "output_type": "execute_result"
    },
    {
     "data": {
      "image/png": "[encoded data removed]",
      "text/plain": [
       "<Figure size 1000x500 with 1 Axes>"
      ]
     },
     "metadata": {},
     "output_type": "display_data"
    }
   ],
   "source": [
    "snb.countplot(x=train_set.Churn,data=train_set,hue=train_set.PhoneService)"
   ]
  },
  {
   "cell_type": "markdown",
   "id": "564cf3b6",
   "metadata": {},
   "source": [
    "## Maken van de DataPipeLine"
   ]
  },
  {
   "cell_type": "code",
   "execution_count": 43,
   "id": "5be76301",
   "metadata": {},
   "outputs": [
    {
     "name": "stdout",
     "output_type": "stream",
     "text": [
      "['gender', 'SeniorCitizen', 'Partner', 'Dependents', 'PhoneService', 'MultipleLines', 'InternetService', 'OnlineSecurity', 'OnlineBackup', 'DeviceProtection', 'TechSupport', 'StreamingTV', 'StreamingMovies', 'Contract', 'PaperlessBilling', 'PaymentMethod']\n"
     ]
    }
   ],
   "source": [
    "cols_to_del = ['customerID']  # kolommen om te verwijderen\n",
    "cols = train_set.columns\n",
    "num_features = ['tenure','MonthlyCharges','TotalCharges']\n",
    "target = 'Churn'\n",
    "cat_features = []  # voor de niet numerieke velden beginnen met lege lijst\n",
    "for c in cols:     # alle kolommen overlopen\n",
    "    if c in cols_to_del:   # zit in kolommen te verwijderen, volgende stap\n",
    "        continue\n",
    "    if c in num_features:  # zit in numverieke kolommen, volgende stap\n",
    "        continue\n",
    "    if c == target:        # is target, volgende stap\n",
    "        continue\n",
    "    cat_features.append(c) # toevoegen aan cat_features\n",
    "print(cat_features)\n",
    "cols_change_zero_to_nan = ['TotalCharges']"
   ]
  },
  {
   "cell_type": "code",
   "execution_count": 44,
   "id": "7fec41a3",
   "metadata": {},
   "outputs": [],
   "source": [
    "def preprocessData(data,cols_change_0,cols_del,cols_num,cols_cat,target,dataPipeLine=None):\n",
    "    \n",
    "    # data opkuisen\n",
    "    try:\n",
    "        # kolommen waarin nullen zijn. Nullen vervangen door NaN (Not a Number)\n",
    "        for c in cols_change_0:\n",
    "            data[c] = data[c].replace({'0':np.nan, ' ':np.nan, 0:np.nan})\n",
    "        # drop alle rijen die NaNs bevatten\n",
    "        data.dropna()\n",
    "        # kolommen die overbodig zijn verwijderen\n",
    "        data.drop(columns=cols_del)\n",
    "    except:\n",
    "        print('probleem met droppen van kolommen of niet geldige data.')\n",
    "    # bepalen target en features\n",
    "    y = data[target] \n",
    "    X = data.drop(columns=[target])  # features\n",
    "    \n",
    "    if dataPipeLine is None:\n",
    "        # transformatie voor de num features\n",
    "        scaler = MinMaxScaler(feature_range=(0,1))\n",
    "        # transformatie voor niet numerieke features\n",
    "        # OneHotEncoder wordt gebruikt bij features die geen bepaalde rangorde hebben.\n",
    "        # drop='if_binary' zorgt ervoor dat een kolom met 2 waarden dezelfde kolom blijft die de waarde 1 en 0\n",
    "        # zal bevatten vb no -> 0 en yes -> 1\n",
    "        # kolommen met meer dan 2 waarden worden uitgebreid tot meerdere kolommen afhankelijk van het\n",
    "        # aantal waarden\n",
    "        o_enc = OneHotEncoder(drop='if_binary')    \n",
    "        # Hier worden alle transformaties samen gebracht. Iedere transformatie is een tuple met 3 elementen :\n",
    "        # 1ste = naam, 2de = transformatie, 3de = op welke features\n",
    "        col_trans = ColumnTransformer(transformers=[('num',scaler,cols_num),('cat',o_enc,cols_cat)])\n",
    "        # Maken van de PipeLine\n",
    "        process = Pipeline(steps=[('coltrans',col_trans)])\n",
    "        # De uiteidelijke transformatie\n",
    "        X_res = process.fit_transform(X)\n",
    "        # met drop_first blijft y 1 kolom en wordt target omgezet (yes/no)\n",
    "        y = pd.get_dummies(y,drop_first=True)\n",
    "        return X_res,y,process\n",
    "    \n",
    "    else:  # transformatie is al geleerd, dus enkel nog uitvoeren\n",
    "        X_res = dataPipeLine.transform(X)\n",
    "        y = pd.get_dummies(y,drop_first=True)\n",
    "        return X_res,y,process\n",
    "     "
   ]
  },
  {
   "cell_type": "markdown",
   "id": "5dd4d3c2",
   "metadata": {},
   "source": [
    "### Leer data door de dataPipeLine sturen"
   ]
  },
  {
   "cell_type": "code",
   "execution_count": 45,
   "id": "0fe9aa1c",
   "metadata": {},
   "outputs": [
    {
     "name": "stdout",
     "output_type": "stream",
     "text": [
      "probleem met droppen van kolommen of niet geldige data.\n",
      "Getransformeerde features:\n",
      "[[0.75       0.52267065 0.43409175 ... 0.         1.         0.        ]\n",
      " [0.01388889 0.62082711 0.00927482 ... 0.         1.         0.        ]\n",
      " [0.18055556 0.01046338 0.02989706 ... 1.         0.         0.        ]\n",
      " ...\n",
      " [0.16666667 0.02889885 0.03523973 ... 0.         1.         0.        ]\n",
      " [0.16666667 0.80916791 0.13818971 ... 0.         1.         0.        ]\n",
      " [0.36111111 0.01544594 0.05265521 ... 1.         0.         0.        ]]\n",
      "Getransformeerde target:\n",
      "      Yes\n",
      "1695    0\n",
      "1095    0\n",
      "3889    0\n",
      "3667    0\n",
      "2902    0\n",
      "1630    0\n",
      "4294    0\n",
      "1881    0\n",
      "4710    0\n",
      "1612    1\n",
      "DataPipeLine\n",
      "Pipeline(steps=[('coltrans',\n",
      "                 ColumnTransformer(transformers=[('num', MinMaxScaler(),\n",
      "                                                  ['tenure', 'MonthlyCharges',\n",
      "                                                   'TotalCharges']),\n",
      "                                                 ('cat',\n",
      "                                                  OneHotEncoder(drop='if_binary'),\n",
      "                                                  ['gender', 'SeniorCitizen',\n",
      "                                                   'Partner', 'Dependents',\n",
      "                                                   'PhoneService',\n",
      "                                                   'MultipleLines',\n",
      "                                                   'InternetService',\n",
      "                                                   'OnlineSecurity',\n",
      "                                                   'OnlineBackup',\n",
      "                                                   'DeviceProtection',\n",
      "                                                   'TechSupport', 'StreamingTV',\n",
      "                                                   'StreamingMovies',\n",
      "                                                   'Contract',\n",
      "                                                   'PaperlessBilling',\n",
      "                                                   'PaymentMethod'])]))])\n"
     ]
    }
   ],
   "source": [
    "dataprocess = None\n",
    "X,y,dataprocess = preprocessData(train_set,cols_change_zero_to_nan,cols_to_del,num_features,cat_features,\n",
    "                                 target,dataprocess)\n",
    "print(\"Getransformeerde features:\")\n",
    "print(X)\n",
    "print(\"Getransformeerde target:\")\n",
    "print(y[:10])\n",
    "print('DataPipeLine')\n",
    "print(dataprocess)"
   ]
  },
  {
   "cell_type": "code",
   "execution_count": null,
   "id": "06a96d6b",
   "metadata": {},
   "outputs": [],
   "source": []
  }
 ],
 "metadata": {
  "kernelspec": {
   "display_name": "Python 3 (ipykernel)",
   "language": "python",
   "name": "python3"
  },
  "language_info": {
   "codemirror_mode": {
    "name": "ipython",
    "version": 3
   },
   "file_extension": ".py",
   "mimetype": "text/x-python",
   "name": "python",
   "nbconvert_exporter": "python",
   "pygments_lexer": "ipython3",
   "version": "3.9.16"
  }
 },
 "nbformat": 4,
 "nbformat_minor": 5
}
